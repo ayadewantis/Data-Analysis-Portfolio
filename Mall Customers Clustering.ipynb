{
 "cells": [
  {
   "cell_type": "markdown",
   "id": "84755461",
   "metadata": {},
   "source": [
    "# Mall Customers Clustering"
   ]
  },
  {
   "cell_type": "markdown",
   "id": "61fda902",
   "metadata": {},
   "source": [
    "## Goal\n",
    "\n",
    "The goal of using K-Means Clustering in mall customer analysis is to segment customers based on their purchasing behavior. This helps businesses to:\n",
    "1. Identify Customer Groups – Understand different spending patterns.\n",
    "2. Improve Marketing Strategies – Personalize promotions for each segment.\n",
    "3. Enhance Customer Experience – Offer better services based on customer behavior.\n",
    "4. Optimize Store Layout & Offerings – Place products and stores strategically.\n",
    "By clustering customers using features like Annual Income, Spending Score, and Age, businesses can make data-driven decisions to boost sales and customer satisfaction."
   ]
  },
  {
   "cell_type": "markdown",
   "id": "8bb9c431",
   "metadata": {},
   "source": [
    "## Setup\n",
    "### Importing the necessary libraries that will be used for this project"
   ]
  },
  {
   "cell_type": "code",
   "execution_count": 1,
   "id": "c8f55df0",
   "metadata": {},
   "outputs": [],
   "source": [
    "# Library\n",
    "from numpy import unique\n",
    "from numpy import where\n",
    "from sklearn.datasets import make_classification\n",
    "from sklearn.cluster import KMeans\n",
    "from matplotlib import pyplot"
   ]
  },
  {
   "cell_type": "markdown",
   "id": "d70e9cd7",
   "metadata": {},
   "source": [
    "## Data Preparation"
   ]
  },
  {
   "cell_type": "code",
   "execution_count": 2,
   "id": "ce9bba8d",
   "metadata": {},
   "outputs": [],
   "source": [
    "# Define Dataset\n",
    "X,__=make_classification(n_samples=1000, n_features=2, n_informative=2,\n",
    "n_redundant=0, n_clusters_per_class=1, random_state=4)"
   ]
  },
  {
   "cell_type": "code",
   "execution_count": 3,
   "id": "e570b06c",
   "metadata": {
    "scrolled": true
   },
   "outputs": [
    {
     "data": {
      "text/plain": [
       "array([[ 1.22515974, -0.95173116],\n",
       "       [ 1.01630365, -1.72517506],\n",
       "       [ 0.33534004, -1.7248955 ],\n",
       "       ...,\n",
       "       [ 1.54270795, -0.05566478],\n",
       "       [ 0.81664566, -1.2509187 ],\n",
       "       [ 1.13782254, -1.26151957]])"
      ]
     },
     "execution_count": 3,
     "metadata": {},
     "output_type": "execute_result"
    }
   ],
   "source": [
    "X"
   ]
  },
  {
   "cell_type": "markdown",
   "id": "2cbea099",
   "metadata": {},
   "source": [
    "## Clustering Preparation"
   ]
  },
  {
   "cell_type": "code",
   "execution_count": 4,
   "id": "932271f2",
   "metadata": {},
   "outputs": [],
   "source": [
    "# Define The Model\n",
    "model=KMeans(n_clusters=2, random_state=4)"
   ]
  },
  {
   "cell_type": "code",
   "execution_count": 5,
   "id": "4661db00",
   "metadata": {},
   "outputs": [
    {
     "data": {
      "text/plain": [
       "KMeans(n_clusters=2, random_state=4)"
      ]
     },
     "execution_count": 5,
     "metadata": {},
     "output_type": "execute_result"
    }
   ],
   "source": [
    "# Fit The Model\n",
    "model.fit(X)"
   ]
  },
  {
   "cell_type": "code",
   "execution_count": 6,
   "id": "15c4ba38",
   "metadata": {},
   "outputs": [
    {
     "name": "stdout",
     "output_type": "stream",
     "text": [
      "[[ 0.89911301 -0.31643189]\n",
      " [-0.87932686 -1.61020833]]\n"
     ]
    }
   ],
   "source": [
    "# Cluster Centroid\n",
    "print(model.cluster_centers_)"
   ]
  },
  {
   "cell_type": "code",
   "execution_count": 7,
   "id": "982718e0",
   "metadata": {},
   "outputs": [],
   "source": [
    "# Assign a Cluster To Each Sample\n",
    "label=model.predict(X)"
   ]
  },
  {
   "cell_type": "code",
   "execution_count": 8,
   "id": "076c7b9a",
   "metadata": {},
   "outputs": [
    {
     "data": {
      "text/plain": [
       "array([0, 1])"
      ]
     },
     "execution_count": 8,
     "metadata": {},
     "output_type": "execute_result"
    }
   ],
   "source": [
    "# Retrive Unique Clusters\n",
    "clusters=unique(label)\n",
    "clusters"
   ]
  },
  {
   "cell_type": "code",
   "execution_count": 9,
   "id": "f413a354",
   "metadata": {
    "scrolled": true
   },
   "outputs": [
    {
     "data": {
      "image/png": "[encoded data removed]",
      "text/plain": [
       "<Figure size 432x288 with 1 Axes>"
      ]
     },
     "metadata": {
      "needs_background": "light"
     },
     "output_type": "display_data"
    }
   ],
   "source": [
    "# Create Scatter Plot for Samples from Each Cluster\n",
    "for cluster in clusters:\n",
    "    # Get Row Indexes for Samples with This Cluster\n",
    "    row_ix=where(label==cluster)\n",
    "    # Create Scatter of These Samples\n",
    "    pyplot.scatter(X[row_ix,0],X[row_ix,1])\n",
    "# Show The Plot\n",
    "pyplot.show()"
   ]
  },
  {
   "cell_type": "code",
   "execution_count": 10,
   "id": "d34d88e4",
   "metadata": {},
   "outputs": [],
   "source": [
    "import pandas as pd\n",
    "import numpy as np\n",
    "import matplotlib.pyplot as plt\n",
    "import seaborn as sns"
   ]
  },
  {
   "cell_type": "markdown",
   "id": "898ac576",
   "metadata": {},
   "source": [
    "### Dataset preparation and display the data"
   ]
  },
  {
   "cell_type": "code",
   "execution_count": 12,
   "id": "55b7f432",
   "metadata": {},
   "outputs": [
    {
     "data": {
      "text/html": [
       "<div>\n",
       "<style scoped>\n",
       "    .dataframe tbody tr th:only-of-type {\n",
       "        vertical-align: middle;\n",
       "    }\n",
       "\n",
       "    .dataframe tbody tr th {\n",
       "        vertical-align: top;\n",
       "    }\n",
       "\n",
       "    .dataframe thead th {\n",
       "        text-align: right;\n",
       "    }\n",
       "</style>\n",
       "<table border=\"1\" class=\"dataframe\">\n",
       "  <thead>\n",
       "    <tr style=\"text-align: right;\">\n",
       "      <th></th>\n",
       "      <th>CustomerID</th>\n",
       "      <th>Genre</th>\n",
       "      <th>Age</th>\n",
       "      <th>Annual Income (k$)</th>\n",
       "      <th>Spending Score (1-100)</th>\n",
       "    </tr>\n",
       "  </thead>\n",
       "  <tbody>\n",
       "    <tr>\n",
       "      <th>0</th>\n",
       "      <td>1</td>\n",
       "      <td>Male</td>\n",
       "      <td>19</td>\n",
       "      <td>15</td>\n",
       "      <td>39</td>\n",
       "    </tr>\n",
       "    <tr>\n",
       "      <th>1</th>\n",
       "      <td>2</td>\n",
       "      <td>Male</td>\n",
       "      <td>21</td>\n",
       "      <td>15</td>\n",
       "      <td>81</td>\n",
       "    </tr>\n",
       "    <tr>\n",
       "      <th>2</th>\n",
       "      <td>3</td>\n",
       "      <td>Female</td>\n",
       "      <td>20</td>\n",
       "      <td>16</td>\n",
       "      <td>6</td>\n",
       "    </tr>\n",
       "    <tr>\n",
       "      <th>3</th>\n",
       "      <td>4</td>\n",
       "      <td>Female</td>\n",
       "      <td>23</td>\n",
       "      <td>16</td>\n",
       "      <td>77</td>\n",
       "    </tr>\n",
       "    <tr>\n",
       "      <th>4</th>\n",
       "      <td>5</td>\n",
       "      <td>Female</td>\n",
       "      <td>31</td>\n",
       "      <td>17</td>\n",
       "      <td>40</td>\n",
       "    </tr>\n",
       "  </tbody>\n",
       "</table>\n",
       "</div>"
      ],
      "text/plain": [
       "   CustomerID   Genre  Age  Annual Income (k$)  Spending Score (1-100)\n",
       "0           1    Male   19                  15                      39\n",
       "1           2    Male   21                  15                      81\n",
       "2           3  Female   20                  16                       6\n",
       "3           4  Female   23                  16                      77\n",
       "4           5  Female   31                  17                      40"
      ]
     },
     "execution_count": 12,
     "metadata": {},
     "output_type": "execute_result"
    }
   ],
   "source": [
    "# Import Dataset 'Mall_Customers.csv'\n",
    "dataset=pd.read_csv(\"Mall_Customers.csv\")\n",
    "dataset.head()"
   ]
  },
  {
   "cell_type": "markdown",
   "id": "23f0110e",
   "metadata": {},
   "source": [
    "## Data Cleaning\n",
    "### Checking for missing data"
   ]
  },
  {
   "cell_type": "code",
   "execution_count": 15,
   "id": "84b2f596",
   "metadata": {},
   "outputs": [
    {
     "data": {
      "text/plain": [
       "CustomerID                0\n",
       "Genre                     0\n",
       "Age                       0\n",
       "Annual Income (k$)        0\n",
       "Spending Score (1-100)    0\n",
       "dtype: int64"
      ]
     },
     "execution_count": 15,
     "metadata": {},
     "output_type": "execute_result"
    }
   ],
   "source": [
    "dataset.isnull().sum()"
   ]
  },
  {
   "cell_type": "markdown",
   "id": "b37150dd",
   "metadata": {},
   "source": [
    "## Clustering"
   ]
  },
  {
   "cell_type": "code",
   "execution_count": 16,
   "id": "95b2d0ab",
   "metadata": {},
   "outputs": [],
   "source": [
    "wcss=[] #Within Cluster Sum of Squares\n",
    "for i in range(1, 15):\n",
    "    kmeans=KMeans(n_clusters=i, random_state=14)\n",
    "    kmeans.fit(X)\n",
    "    wcss.append(kmeans.inertia_)"
   ]
  },
  {
   "cell_type": "code",
   "execution_count": 17,
   "id": "4b02c24c",
   "metadata": {},
   "outputs": [
    {
     "data": {
      "image/png": "[encoded data removed]",
      "text/plain": [
       "<Figure size 432x288 with 1 Axes>"
      ]
     },
     "metadata": {
      "needs_background": "light"
     },
     "output_type": "display_data"
    }
   ],
   "source": [
    "# Elbow Method Visualization\n",
    "plt.plot (range(1,15), wcss)\n",
    "plt.title(\"The Elbow Method\")\n",
    "plt.xlabel(\"Number of Cluster\")\n",
    "plt.ylabel(\"WCSS\")\n",
    "plt.show()"
   ]
  },
  {
   "cell_type": "code",
   "execution_count": 18,
   "id": "b2d53f4b",
   "metadata": {},
   "outputs": [
    {
     "name": "stdout",
     "output_type": "stream",
     "text": [
      "Requirement already satisfied: yellowbrick in c:\\users\\lenovo\\anaconda\\lib\\site-packages (1.5)Note: you may need to restart the kernel to use updated packages.\n",
      "Requirement already satisfied: cycler>=0.10.0 in c:\\users\\lenovo\\anaconda\\lib\\site-packages (from yellowbrick) (0.11.0)\n",
      "Requirement already satisfied: scikit-learn>=1.0.0 in c:\\users\\lenovo\\anaconda\\lib\\site-packages (from yellowbrick) (1.0.2)\n",
      "Requirement already satisfied: matplotlib!=3.0.0,>=2.0.2 in c:\\users\\lenovo\\anaconda\\lib\\site-packages (from yellowbrick) (3.5.1)\n",
      "Requirement already satisfied: scipy>=1.0.0 in c:\\users\\lenovo\\anaconda\\lib\\site-packages (from yellowbrick) (1.7.3)\n",
      "Requirement already satisfied: numpy>=1.16.0 in c:\\users\\lenovo\\anaconda\\lib\\site-packages (from yellowbrick) (1.21.5)\n",
      "Requirement already satisfied: python-dateutil>=2.7 in c:\\users\\lenovo\\anaconda\\lib\\site-packages (from matplotlib!=3.0.0,>=2.0.2->yellowbrick) (2.8.2)\n",
      "Requirement already satisfied: pillow>=6.2.0 in c:\\users\\lenovo\\anaconda\\lib\\site-packages (from matplotlib!=3.0.0,>=2.0.2->yellowbrick) (9.0.1)\n",
      "Requirement already satisfied: pyparsing>=2.2.1 in c:\\users\\lenovo\\anaconda\\lib\\site-packages (from matplotlib!=3.0.0,>=2.0.2->yellowbrick) (3.0.4)\n",
      "Requirement already satisfied: fonttools>=4.22.0 in c:\\users\\lenovo\\anaconda\\lib\\site-packages (from matplotlib!=3.0.0,>=2.0.2->yellowbrick) (4.25.0)\n",
      "Requirement already satisfied: kiwisolver>=1.0.1 in c:\\users\\lenovo\\anaconda\\lib\\site-packages (from matplotlib!=3.0.0,>=2.0.2->yellowbrick) (1.3.2)\n",
      "Requirement already satisfied: packaging>=20.0 in c:\\users\\lenovo\\anaconda\\lib\\site-packages (from matplotlib!=3.0.0,>=2.0.2->yellowbrick) (21.3)\n",
      "Requirement already satisfied: six>=1.5 in c:\\users\\lenovo\\anaconda\\lib\\site-packages (from python-dateutil>=2.7->matplotlib!=3.0.0,>=2.0.2->yellowbrick) (1.16.0)\n",
      "Requirement already satisfied: joblib>=0.11 in c:\\users\\lenovo\\anaconda\\lib\\site-packages (from scikit-learn>=1.0.0->yellowbrick) (1.1.0)\n",
      "Requirement already satisfied: threadpoolctl>=2.0.0 in c:\\users\\lenovo\\anaconda\\lib\\site-packages (from scikit-learn>=1.0.0->yellowbrick) (2.2.0)\n",
      "\n"
     ]
    }
   ],
   "source": [
    "pip install yellowbrick"
   ]
  },
  {
   "cell_type": "code",
   "execution_count": 19,
   "id": "225b8fbe",
   "metadata": {},
   "outputs": [
    {
     "data": {
      "image/png": "[encoded data removed]",
      "text/plain": [
       "<Figure size 576x396 with 2 Axes>"
      ]
     },
     "metadata": {},
     "output_type": "display_data"
    },
    {
     "data": {
      "text/plain": [
       "<AxesSubplot:title={'center':'Distortion Score Elbow for KMeans Clustering'}, xlabel='k', ylabel='distortion score'>"
      ]
     },
     "execution_count": 19,
     "metadata": {},
     "output_type": "execute_result"
    }
   ],
   "source": [
    "from yellowbrick.cluster import KElbowVisualizer\n",
    "Elbow_M=KElbowVisualizer(KMeans(),k=14)\n",
    "Elbow_M.fit(X)\n",
    "Elbow_M.show()"
   ]
  },
  {
   "cell_type": "code",
   "execution_count": 20,
   "id": "9162b334",
   "metadata": {},
   "outputs": [
    {
     "data": {
      "text/plain": [
       "KMeans(n_clusters=5, random_state=14)"
      ]
     },
     "execution_count": 20,
     "metadata": {},
     "output_type": "execute_result"
    }
   ],
   "source": [
    "# Cluster=5\n",
    "kmeans=KMeans(n_clusters=5, random_state=14)\n",
    "kmeans.fit(X)"
   ]
  },
  {
   "cell_type": "code",
   "execution_count": 21,
   "id": "f03ba657",
   "metadata": {},
   "outputs": [
    {
     "data": {
      "text/plain": [
       "array([1, 4, 4, 1, 3, 0, 1, 3, 3, 3, 0, 2, 2, 0, 2, 0, 0, 2, 2, 2, 0, 3,\n",
       "       4, 2, 3, 2, 1, 0, 1, 1, 4, 1, 1, 4, 0, 0, 0, 2, 0, 2, 0, 2, 2, 2,\n",
       "       4, 1, 0, 1, 0, 2, 3, 2, 3, 2, 1, 1, 3, 1, 4, 1, 0, 0, 1, 1, 2, 1,\n",
       "       4, 2, 2, 1, 1, 0, 0, 0, 3, 4, 2, 4, 3, 1, 0, 0, 0, 1, 3, 4, 3, 2,\n",
       "       0, 1, 2, 3, 4, 0, 1, 3, 2, 2, 2, 1, 3, 1, 1, 2, 0, 3, 2, 2, 1, 4,\n",
       "       4, 0, 2, 0, 1, 0, 0, 0, 0, 1, 2, 3, 3, 2, 3, 4, 0, 3, 2, 4, 4, 4,\n",
       "       1, 4, 2, 2, 0, 4, 0, 0, 4, 1, 1, 2, 2, 0, 2, 4, 3, 1, 1, 3, 4, 2,\n",
       "       1, 1, 0, 1, 4, 3, 4, 3, 2, 1, 1, 3, 1, 2, 3, 1, 1, 0, 4, 0, 3, 1,\n",
       "       0, 2, 0, 2, 1, 3, 1, 1, 1, 4, 3, 1, 0, 1, 1, 2, 0, 0, 2, 2, 2, 1,\n",
       "       1, 4, 1, 4, 0, 2, 1, 2, 0, 0, 1, 2, 2, 4, 0, 1, 1, 4, 3, 1, 4, 2,\n",
       "       1, 2, 4, 3, 2, 2, 3, 4, 1, 2, 4, 1, 2, 3, 2, 1, 1, 2, 1, 2, 2, 2,\n",
       "       4, 3, 3, 0, 3, 3, 1, 0, 0, 3, 2, 3, 2, 0, 2, 2, 2, 0, 0, 0, 2, 1,\n",
       "       2, 0, 4, 4, 0, 2, 3, 2, 1, 0, 2, 1, 0, 2, 1, 1, 2, 2, 2, 2, 1, 1,\n",
       "       3, 1, 1, 0, 2, 2, 1, 4, 2, 2, 3, 1, 2, 3, 2, 0, 3, 4, 0, 1, 4, 1,\n",
       "       2, 4, 0, 0, 4, 2, 4, 2, 0, 0, 0, 0, 0, 0, 2, 0, 1, 1, 0, 4, 0, 1,\n",
       "       4, 1, 0, 2, 0, 2, 0, 1, 0, 4, 2, 2, 0, 1, 2, 1, 3, 2, 0, 2, 3, 2,\n",
       "       1, 1, 0, 2, 2, 2, 0, 1, 1, 2, 4, 2, 2, 0, 3, 3, 1, 0, 0, 1, 2, 0,\n",
       "       2, 0, 2, 2, 0, 0, 1, 2, 0, 2, 1, 2, 2, 2, 4, 0, 2, 0, 4, 4, 2, 0,\n",
       "       2, 4, 2, 4, 2, 2, 1, 1, 2, 0, 0, 1, 0, 2, 1, 1, 3, 0, 2, 0, 3, 3,\n",
       "       3, 0, 2, 4, 2, 4, 0, 4, 4, 0, 4, 4, 1, 0, 1, 4, 3, 0, 4, 3, 1, 2,\n",
       "       1, 1, 2, 1, 0, 0, 3, 3, 3, 1, 1, 2, 0, 2, 1, 1, 3, 1, 1, 2, 2, 2,\n",
       "       3, 1, 1, 4, 2, 4, 4, 3, 0, 3, 3, 2, 2, 2, 4, 1, 4, 0, 1, 1, 0, 4,\n",
       "       4, 0, 1, 0, 4, 1, 3, 3, 0, 1, 4, 4, 2, 0, 2, 3, 1, 0, 0, 3, 3, 2,\n",
       "       0, 1, 1, 4, 1, 4, 2, 2, 1, 0, 2, 3, 2, 2, 0, 0, 0, 0, 0, 0, 0, 1,\n",
       "       3, 0, 1, 4, 2, 4, 1, 3, 2, 3, 1, 0, 4, 3, 0, 1, 1, 1, 2, 2, 3, 1,\n",
       "       2, 3, 1, 1, 4, 0, 2, 1, 4, 3, 1, 4, 0, 3, 0, 1, 2, 1, 1, 4, 4, 0,\n",
       "       1, 4, 1, 0, 2, 3, 4, 2, 2, 0, 0, 2, 2, 2, 4, 2, 0, 2, 0, 0, 1, 1,\n",
       "       1, 4, 2, 0, 4, 2, 2, 0, 4, 0, 3, 3, 3, 1, 1, 3, 4, 2, 1, 2, 2, 4,\n",
       "       1, 1, 0, 2, 1, 2, 0, 1, 4, 0, 4, 0, 3, 2, 2, 1, 0, 2, 0, 2, 0, 3,\n",
       "       3, 2, 3, 2, 4, 2, 2, 0, 2, 2, 4, 0, 2, 4, 2, 4, 3, 3, 0, 2, 1, 3,\n",
       "       1, 3, 1, 1, 2, 1, 1, 1, 0, 4, 1, 2, 0, 3, 4, 1, 0, 1, 2, 0, 2, 0,\n",
       "       1, 4, 1, 0, 0, 1, 1, 0, 1, 4, 0, 2, 3, 4, 2, 4, 0, 3, 4, 3, 1, 3,\n",
       "       3, 0, 2, 1, 4, 1, 0, 0, 3, 4, 2, 2, 2, 0, 4, 2, 2, 0, 2, 3, 1, 2,\n",
       "       3, 2, 2, 4, 0, 4, 2, 0, 3, 1, 1, 2, 3, 3, 1, 2, 4, 2, 2, 0, 3, 2,\n",
       "       3, 0, 4, 1, 3, 3, 3, 0, 3, 1, 0, 1, 1, 0, 2, 2, 0, 3, 0, 0, 2, 2,\n",
       "       3, 3, 0, 0, 4, 2, 2, 1, 4, 4, 2, 0, 3, 1, 1, 3, 4, 4, 0, 1, 3, 0,\n",
       "       0, 1, 1, 1, 2, 1, 4, 2, 2, 0, 1, 0, 1, 1, 1, 0, 3, 3, 4, 3, 3, 0,\n",
       "       1, 2, 1, 2, 1, 0, 2, 2, 0, 0, 1, 2, 1, 1, 1, 2, 1, 2, 2, 4, 3, 0,\n",
       "       3, 2, 3, 0, 4, 1, 2, 1, 1, 1, 1, 1, 0, 4, 2, 0, 4, 1, 3, 3, 0, 0,\n",
       "       4, 3, 1, 2, 2, 4, 4, 1, 4, 2, 0, 0, 0, 1, 4, 0, 3, 1, 2, 1, 3, 3,\n",
       "       2, 4, 4, 1, 4, 0, 3, 4, 3, 2, 0, 3, 1, 4, 3, 3, 0, 4, 2, 0, 2, 2,\n",
       "       0, 2, 0, 4, 4, 2, 1, 2, 2, 4, 0, 3, 2, 0, 4, 2, 0, 2, 3, 2, 3, 1,\n",
       "       1, 2, 1, 3, 2, 0, 4, 2, 0, 0, 1, 0, 2, 2, 0, 3, 0, 1, 4, 2, 3, 3,\n",
       "       2, 1, 3, 3, 0, 4, 1, 1, 4, 0, 3, 0, 1, 2, 4, 0, 0, 3, 4, 0, 2, 0,\n",
       "       4, 1, 4, 2, 1, 1, 1, 0, 0, 2, 2, 3, 3, 0, 1, 2, 4, 2, 0, 4, 0, 1,\n",
       "       3, 2, 0, 2, 0, 1, 2, 3, 1, 1])"
      ]
     },
     "execution_count": 21,
     "metadata": {},
     "output_type": "execute_result"
    }
   ],
   "source": [
    "kmeans.labels_"
   ]
  },
  {
   "cell_type": "code",
   "execution_count": 22,
   "id": "4a0de1f9",
   "metadata": {},
   "outputs": [
    {
     "ename": "IndexError",
     "evalue": "only integers, slices (`:`), ellipsis (`...`), numpy.newaxis (`None`) and integer or boolean arrays are valid indices",
     "output_type": "error",
     "traceback": [
      "\u001b[1;31m---------------------------------------------------------------------------\u001b[0m",
      "\u001b[1;31mIndexError\u001b[0m                                Traceback (most recent call last)",
      "Input \u001b[1;32mIn [22]\u001b[0m, in \u001b[0;36m<cell line: 2>\u001b[1;34m()\u001b[0m\n\u001b[0;32m      1\u001b[0m hasil_kmeans\u001b[38;5;241m=\u001b[39mX\u001b[38;5;241m.\u001b[39mcopy()\n\u001b[1;32m----> 2\u001b[0m hasil_kmeans[\u001b[38;5;124m\"\u001b[39m\u001b[38;5;124mCluster\u001b[39m\u001b[38;5;124m\"\u001b[39m]\u001b[38;5;241m=\u001b[39mkmeans\u001b[38;5;241m.\u001b[39mlabels_\n\u001b[0;32m      3\u001b[0m hasil_kmeans\u001b[38;5;241m.\u001b[39mhead()\n",
      "\u001b[1;31mIndexError\u001b[0m: only integers, slices (`:`), ellipsis (`...`), numpy.newaxis (`None`) and integer or boolean arrays are valid indices"
     ]
    }
   ],
   "source": [
    "hasil_kmeans=X.copy()\n",
    "hasil_kmeans[\"Cluster\"]=kmeans.labels_\n",
    "hasil_kmeans.head()"
   ]
  },
  {
   "cell_type": "code",
   "execution_count": null,
   "id": "8befbb5d",
   "metadata": {},
   "outputs": [],
   "source": [
    "# Value of X axis and Y axis\n",
    "cluster_x= hasil_kmeans[\"Cluster\"].value_counts().index\n",
    "cluster_y= hasil_kmeans[\"Cluster\"].value_counts().values"
   ]
  },
  {
   "cell_type": "markdown",
   "id": "25550577",
   "metadata": {},
   "source": [
    "## Visualizing "
   ]
  },
  {
   "cell_type": "code",
   "execution_count": null,
   "id": "04308fb3",
   "metadata": {},
   "outputs": [],
   "source": [
    "# Visualize\n",
    "sns.barplot(cluster_x, cluster_y)\n",
    "plt.title(\"Frequency of Each Cluster\")\n",
    "plt.xlabel(\"Cluster\")\n",
    "plt.ylabel(\"Frequency\")\n",
    "plt.show"
   ]
  },
  {
   "cell_type": "code",
   "execution_count": null,
   "id": "0b4f4e38",
   "metadata": {},
   "outputs": [],
   "source": [
    "# Feature/Variable Values for Each Cluster\n",
    "ann_kmeans0= hasil_kmeans[hasil_kmeans[\"Cluster\"]==0].iloc[:,0]\n",
    "spend_kmeans0= hasil_kmeans[hasil_kmeans[\"Cluster\"]==0].iloc[:,1]\n",
    "\n",
    "ann_kmeans1= hasil_kmeans[hasil_kmeans[\"Cluster\"]==1].iloc[:,0]\n",
    "spend_kmeans1= hasil_kmeans[hasil_kmeans[\"Cluster\"]==1].iloc[:,1]\n",
    "\n",
    "ann_kmeans2= hasil_kmeans[hasil_kmeans[\"Cluster\"]==2].iloc[:,0]\n",
    "spend_kmeans2= hasil_kmeans[hasil_kmeans[\"Cluster\"]==2].iloc[:,1]\n",
    "\n",
    "ann_kmeans3= hasil_kmeans[hasil_kmeans[\"Cluster\"]==3].iloc[:,0]\n",
    "spend_kmeans3= hasil_kmeans[hasil_kmeans[\"Cluster\"]==3].iloc[:,1]\n",
    "\n",
    "ann_kmeans4= hasil_kmeans[hasil_kmeans[\"Cluster\"]==4].iloc[:,0]\n",
    "spend_kmeans4= hasil_kmeans[hasil_kmeans[\"Cluster\"]==4].iloc[:,1]"
   ]
  },
  {
   "cell_type": "code",
   "execution_count": null,
   "id": "209b6a4d",
   "metadata": {},
   "outputs": [],
   "source": [
    "# Centre of Cluster (Centroid)\n",
    "centroid_cluster=kmeans.cluster_centers_\n",
    "centroid_cluster"
   ]
  },
  {
   "cell_type": "code",
   "execution_count": null,
   "id": "2d3c7806",
   "metadata": {
    "scrolled": true
   },
   "outputs": [],
   "source": [
    "# Visualize the result of cluster\n",
    "plt.scatter(ann_kmeans0, spend_kmeans0, s=80, c='blue', label='Cluster 1')\n",
    "plt.scatter(ann_kmeans1, spend_kmeans1, s=80, c='orange', label='Cluster 2')\n",
    "plt.scatter(ann_kmeans2, spend_kmeans2, s=80, c='green', label='Cluster 3')\n",
    "plt.scatter(ann_kmeans3, spend_kmeans3, s=80, c='red', label='Cluster 4')\n",
    "plt.scatter(ann_kmeans4, spend_kmeans4, s=80, c='magenta', label='Cluster 5')\n",
    "#Centroid\n",
    "plt.scatter(centroid_cluster[:,0], centroid_cluster[:,1], s=160, c='black', label='Centroids')\n",
    "plt.title('Clusters of Customers')\n",
    "plt.xlabel(\"Annual Income(k$)\")\n",
    "plt.ylabel(\"Spending score (1-100)\")\n",
    "plt.legend()\n",
    "plt.show"
   ]
  },
  {
   "cell_type": "markdown",
   "id": "9887ab06",
   "metadata": {},
   "source": [
    "## Conclusion\n",
    "The scatter plot represents the segmentation of customers based on Annual Income and Spending Score using K-Means Clustering. The data is grouped into five distinct clusters, each represented by different colors, with centroids marked in black.\n",
    "\n",
    "Key Observations:\n",
    "Cluster 1 (Blue - Moderate Income, Moderate Spending):\n",
    "\n",
    "Customers with moderate income (around $40k–60k).\n",
    "They have a medium spending score (30–60).\n",
    "These may represent average shoppers who spend reasonably.\n",
    "Cluster 2 (Green - Low Income, High Spending):\n",
    "\n",
    "Customers with low income (below $40k).\n",
    "They have a high spending score (above 60).\n",
    "Likely includes loyal customers who spend more despite lower income.\n",
    "Cluster 3 (Orange - High Income, High Spending):\n",
    "\n",
    "Customers with high income (above $80k).\n",
    "They also have a high spending score (above 60).\n",
    "Likely represents premium customers who contribute the most to revenue.\n",
    "Cluster 4 (Pink - Low Income, Low Spending):\n",
    "\n",
    "Customers with low income (below $40k).\n",
    "Their spending score is also low (below 40).\n",
    "Likely represents budget-conscious shoppers or infrequent buyers.\n",
    "Cluster 5 (Red - High Income, Low Spending):\n",
    "\n",
    "Customers with high income (above $80k).\n",
    "They have a low spending score (below 40).\n",
    "These might be wealthy but conservative shoppers who don’t spend much."
   ]
  },
  {
   "cell_type": "markdown",
   "id": "fdc5235d",
   "metadata": {},
   "source": [
    "## Business Insights\n",
    "Premium customers (Cluster 3) should be prioritized for high-end products and loyalty programs.\n",
    "Low-income, high-spending customers (Cluster 2) could be targeted with discounts or incentives to maintain their loyalty.\n",
    "High-income, low-spending customers (Cluster 5) present an opportunity for targeted marketing to encourage higher spending.\n",
    "This clustering helps businesses optimize marketing strategies, personalize offers, and improve customer retention."
   ]
  },
  {
   "cell_type": "markdown",
   "id": "ce1d370f",
   "metadata": {},
   "source": [
    "## Saving Clustering Results"
   ]
  },
  {
   "cell_type": "code",
   "execution_count": null,
   "id": "f27d41ca",
   "metadata": {},
   "outputs": [],
   "source": [
    "dataset['cluster']=kmeans.labels_\n",
    "dataset.head()"
   ]
  },
  {
   "cell_type": "code",
   "execution_count": null,
   "id": "c79d6956",
   "metadata": {},
   "outputs": [],
   "source": [
    "dataset.to_excel(\"Clustering_K-Means.xlsx\", sheet_name='K-Means', index=False)"
   ]
  }
 ],
 "metadata": {
  "kernelspec": {
   "display_name": "Python 3 (ipykernel)",
   "language": "python",
   "name": "python3"
  },
  "language_info": {
   "codemirror_mode": {
    "name": "ipython",
    "version": 3
   },
   "file_extension": ".py",
   "mimetype": "text/x-python",
   "name": "python",
   "nbconvert_exporter": "python",
   "pygments_lexer": "ipython3",
   "version": "3.9.12"
  }
 },
 "nbformat": 4,
 "nbformat_minor": 5
}
